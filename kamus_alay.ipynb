{
 "cells": [
  {
   "cell_type": "code",
   "execution_count": 1,
   "metadata": {},
   "outputs": [],
   "source": [
    "dict_alay = {\n",
    "    'i' : '1',\n",
    "    's' : '2',\n",
    "    'e' : '3',\n",
    "    'a' : '4',\n",
    "    's' : '5',\n",
    "    'g' : '6',\n",
    "    'b' : '8',\n",
    "    'o' : '0'\n",
    "}    "
   ]
  },
  {
   "cell_type": "code",
   "execution_count": 2,
   "metadata": {},
   "outputs": [],
   "source": [
    "def alay_alphabet(c):\n",
    "    if c in dict_alay:\n",
    "        return dict_alay[c]\n",
    "    else:\n",
    "        return c"
   ]
  },
  {
   "cell_type": "code",
   "execution_count": 3,
   "metadata": {},
   "outputs": [],
   "source": [
    "def change_alay(s):\n",
    "    new_word = ''\n",
    "    for c in s:\n",
    "        new_word += alay_alphabet(c)\n",
    "    return new_word"
   ]
  },
  {
   "cell_type": "code",
   "execution_count": 4,
   "metadata": {},
   "outputs": [
    {
     "name": "stdout",
     "output_type": "stream",
     "text": [
      "pramaditya\n",
      "pr4m4d1ty4\n"
     ]
    }
   ],
   "source": [
    "masukan = input()\n",
    "print(change_alay(masukan))"
   ]
  }
 ],
 "metadata": {
  "kernelspec": {
   "display_name": "Python 3",
   "language": "python",
   "name": "python3"
  },
  "language_info": {
   "codemirror_mode": {
    "name": "ipython",
    "version": 3
   },
   "file_extension": ".py",
   "mimetype": "text/x-python",
   "name": "python",
   "nbconvert_exporter": "python",
   "pygments_lexer": "ipython3",
   "version": "3.7.1"
  }
 },
 "nbformat": 4,
 "nbformat_minor": 2
}
